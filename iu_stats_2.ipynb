{
 "cells": [
  {
   "cell_type": "code",
   "execution_count": 1,
   "metadata": {},
   "outputs": [],
   "source": [
    "import pandas as pd\n",
    "import numpy as np\n",
    "import seaborn as sns\n",
    "\n",
    "%matplotlib inline"
   ]
  },
  {
   "cell_type": "code",
   "execution_count": 2,
   "metadata": {},
   "outputs": [],
   "source": [
    "#loading the data\n",
    "\n",
    "df = pd.DataFrame([[0.017, -134.94], [3.744, 153.89], [-1.966, 563.9], [-6.637, 302.21], [-3.611, -524.06], [-1.601, 1388.28], [-0.889, 274.83], [9.013, 390.11], [0.947, -463.43], [1.845, 658.4], [7.166, 391.54], [0.163, -3.55], [8.395, -167.73], [1.56, -939.42], [6.346, 1156.24], [6.84, 471.7], [2.848, 305.07], [-8.481, 450.67], [2.25, -371.36], [2.799, 1165.14]],columns=['X','Y'])"
   ]
  },
  {
   "cell_type": "code",
   "execution_count": 3,
   "metadata": {},
   "outputs": [
    {
     "data": {
      "text/plain": [
       "<matplotlib.axes._subplots.AxesSubplot at 0x2cf58df3640>"
      ]
     },
     "execution_count": 3,
     "metadata": {},
     "output_type": "execute_result"
    },
    {
     "data": {
      "image/png": "[encoded data removed]",
      "text/plain": [
       "<Figure size 432x288 with 1 Axes>"
      ]
     },
     "metadata": {
      "needs_background": "light"
     },
     "output_type": "display_data"
    }
   ],
   "source": [
    "sns.scatterplot(data=df,x='X',y='Y')"
   ]
  },
  {
   "cell_type": "code",
   "execution_count": 4,
   "metadata": {},
   "outputs": [
    {
     "name": "stdout",
     "output_type": "stream",
     "text": [
      "X mean = 1.5373999999999999\n",
      "Y mean = 253.37449999999995\n"
     ]
    }
   ],
   "source": [
    "\n",
    "x_mean = sum(df['X']) / 20\n",
    "y_mean = sum(df['Y']) / 20\n",
    "\n",
    "print('X mean = {}\\nY mean = {}'.format(x_mean,y_mean))"
   ]
  },
  {
   "cell_type": "code",
   "execution_count": 5,
   "metadata": {},
   "outputs": [
    {
     "data": {
      "text/plain": [
       "176.52563389473696"
      ]
     },
     "execution_count": 5,
     "metadata": {},
     "output_type": "execute_result"
    }
   ],
   "source": [
    "def calc_cov(x,y):\n",
    "    return sum((x - x_mean) * (y-y_mean)) / 19\n",
    "\n",
    "calc_cov(df['X'],df['Y'])"
   ]
  },
  {
   "cell_type": "markdown",
   "metadata": {},
   "source": [
    "##### inbuilt method\n"
   ]
  },
  {
   "cell_type": "code",
   "execution_count": 6,
   "metadata": {},
   "outputs": [
    {
     "data": {
      "text/plain": [
       "176.52563389473687"
      ]
     },
     "execution_count": 6,
     "metadata": {},
     "output_type": "execute_result"
    }
   ],
   "source": [
    "df.cov()['X']['Y']"
   ]
  },
  {
   "cell_type": "code",
   "execution_count": 7,
   "metadata": {},
   "outputs": [
    {
     "data": {
      "text/plain": [
       "{'x_var': 22.15, 'y_var': 350534.2}"
      ]
     },
     "execution_count": 7,
     "metadata": {},
     "output_type": "execute_result"
    }
   ],
   "source": [
    "def calc_var(x,y):\n",
    "    ans = {'x_var': 0 , 'y_var':0}\n",
    "    ans['x_var'] = round(sum((x - x_mean) ** 2)  / 19 , 2)\n",
    "    ans['y_var'] = round(sum((y - y_mean) ** 2)  / 19,2)\n",
    "    return ans\n",
    "    \n",
    "calc_var(df['X'],df['Y'])"
   ]
  },
  {
   "cell_type": "markdown",
   "metadata": {},
   "source": [
    "##### another method"
   ]
  },
  {
   "cell_type": "code",
   "execution_count": 8,
   "metadata": {},
   "outputs": [
    {
     "data": {
      "text/plain": [
       "X        22.151003\n",
       "Y    350534.195089\n",
       "dtype: float64"
      ]
     },
     "execution_count": 8,
     "metadata": {},
     "output_type": "execute_result"
    }
   ],
   "source": [
    "df.var()"
   ]
  }
 ],
 "metadata": {
  "kernelspec": {
   "display_name": "Python 3",
   "language": "python",
   "name": "python3"
  },
  "language_info": {
   "codemirror_mode": {
    "name": "ipython",
    "version": 3
   },
   "file_extension": ".py",
   "mimetype": "text/x-python",
   "name": "python",
   "nbconvert_exporter": "python",
   "pygments_lexer": "ipython3",
   "version": "3.8.3"
  }
 },
 "nbformat": 4,
 "nbformat_minor": 4
}
