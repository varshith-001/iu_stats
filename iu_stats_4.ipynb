{
 "cells": [
  {
   "cell_type": "markdown",
   "metadata": {},
   "source": [
    "# 4.\n",
    "\n",
    "\n"
   ]
  },
  {
   "cell_type": "markdown",
   "metadata": {},
   "source": [
    "# Step 1. Defining the Claims [we are performing chi square test for the variance]"
   ]
  },
  {
   "cell_type": "markdown",
   "metadata": {},
   "source": [
    "for the given problem statement  following are the null and alternate hypothesis:\n",
    "H0: SD=92.9\n",
    "H1: SD<92.9\n",
    "    "
   ]
  },
  {
   "cell_type": "markdown",
   "metadata": {},
   "source": [
    "# Step 2. Deciding the Significance Level(alpha)"
   ]
  },
  {
   "cell_type": "markdown",
   "metadata": {},
   "source": [
    "The population mean and population standard deviation are 971 and 15.2, respectively.\n",
    "Since the population standard deviation has been provided, we shall do z-test.\n",
    "Since the level of significance has not been provided, we shall take α=0.05\n",
    "alpha as 0.05 means We expect to reject a true null hypothesis 5 out of 100 times.(A 5% significance level means that when we reject a null hypothesis)\n",
    "\n"
   ]
  },
  {
   "cell_type": "markdown",
   "metadata": {},
   "source": [
    "Now, if the test statistic is in the critical region (rejection region), or the p-value is smaller than 0.05, we shall reject the null hypothesis.\n",
    "The error probabilities are of two types; firstly, rejecting the null hypothesis while it is true; and secondly, not rejecting the null hypothesis while it is false.\n"
   ]
  },
  {
   "cell_type": "markdown",
   "metadata": {},
   "source": [
    "# Step 3. Standard Deviation of the Sample"
   ]
  },
  {
   "cell_type": "code",
   "execution_count": 1,
   "metadata": {},
   "outputs": [
    {
     "data": {
      "text/plain": [
       "68.38340441949347"
      ]
     },
     "execution_count": 1,
     "metadata": {},
     "output_type": "execute_result"
    }
   ],
   "source": [
    "import numpy\n",
    "sample_data=[893, 858, 843, 998, 817, 773, 945, 858, 763, 843]\n",
    "sd_sample=numpy.std(sample_data)\n",
    "sd_sample\n"
   ]
  },
  {
   "cell_type": "markdown",
   "metadata": {},
   "source": [
    "# Step 4: Calculating the Test Statistic using Chi-Square Test."
   ]
  },
  {
   "cell_type": "markdown",
   "metadata": {},
   "source": [
    "The test statistic is used to decide the outcome of the hypothesis test\n"
   ]
  },
  {
   "cell_type": "code",
   "execution_count": 2,
   "metadata": {},
   "outputs": [
    {
     "data": {
      "text/plain": [
       "16.61010972373399"
      ]
     },
     "execution_count": 2,
     "metadata": {},
     "output_type": "execute_result"
    }
   ],
   "source": [
    "import scipy.stats as stats\n",
    "import math\n",
    "N=10\n",
    "null_hypo=92.9\n",
    "test_stats=(N-1)/(sd_sample/null_hypo)**2\n",
    "test_stats"
   ]
  },
  {
   "cell_type": "code",
   "execution_count": null,
   "metadata": {},
   "outputs": [],
   "source": []
  }
 ],
 "metadata": {
  "kernelspec": {
   "display_name": "Python 3",
   "language": "python",
   "name": "python3"
  },
  "language_info": {
   "codemirror_mode": {
    "name": "ipython",
    "version": 3
   },
   "file_extension": ".py",
   "mimetype": "text/x-python",
   "name": "python",
   "nbconvert_exporter": "python",
   "pygments_lexer": "ipython3",
   "version": "3.8.3"
  }
 },
 "nbformat": 4,
 "nbformat_minor": 5
}
